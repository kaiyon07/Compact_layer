{
 "cells": [
  {
   "cell_type": "markdown",
   "metadata": {},
   "source": [
    "# New Compact layer -\n",
    "\n",
    "Can implement <br/> \n",
    "1 - convolution layer <br/>\n",
    "2 - dilated convolution layer <br/>\n",
    "3 - activation layer <br/>\n",
    "4 - max_pool layer<br/>\n",
    "5 - batch normalization layer<br/>\n",
    "6 - avg pool layer<br/>\n",
    "7 - dense layer<br/>\n",
    "8 - flatten<br/>\n",
    "9 - acitvation <br/>\n",
    "10 - dropout<br/>"
   ]
  },
  {
   "cell_type": "code",
   "execution_count": null,
   "metadata": {},
   "outputs": [],
   "source": [
    "\"\"\"\n",
    "\n",
    "This implementation of compact layer is based on global list (a list containing hyperparameters) and this list is\n",
    "\n",
    "then passed to the compact layer function.\n",
    "\n",
    "\n",
    "\"\"\""
   ]
  },
  {
   "cell_type": "code",
   "execution_count": 27,
   "metadata": {},
   "outputs": [
    {
     "name": "stdout",
     "output_type": "stream",
     "text": [
      "layer : conv\n",
      "number of filters : 64\n",
      "kernal size : 5\n",
      "padding : same\n",
      "activation :relu\n",
      "dilation rate : none\n",
      "['conv', [64], [5, 5], 'same', 'relu', 'none']\n",
      "next layermax_pool\n",
      "pool size3\n",
      "stride2\n",
      "next layerend\n",
      "[['conv', [64], [5, 5], 'same', 'relu', 'none'], ['max_pool', [3, 3], [2, 2]]]\n"
     ]
    }
   ],
   "source": [
    "\"\"\"\n",
    "creating Input\n",
    "\"\"\"\n",
    "\n",
    "\n",
    "global_lst=[]\n",
    "input_val=input(\"layer : \")\n",
    "\n",
    "while(input_val!='end'):\n",
    "    lst=[]\n",
    "    if(input_val=='conv'):\n",
    "        lst.append('conv')\n",
    "        lst.append(int(input(\"number of filters : \")))     #number of filters\n",
    "        lst.append([int(input(\"kernal size : \"))])          #kernal size\n",
    "        lst[2]=lst[2]+lst[2]\n",
    "        #lst.append([int(input(\"stride : \"))])           #stride rate\n",
    "        #lst[3]=lst[3]+lst[3]\n",
    "        lst.append(input(\"padding : \"))\n",
    "        lst.append(input(\"activation :\"))\n",
    "        lst.append((input(\"dilation rate : \")))\n",
    "        print(lst)\n",
    "        \n",
    "        global_lst.append(lst)\n",
    "        \n",
    "    elif(input_val=='max_pool'):\n",
    "        lst.append('max_pool')\n",
    "        lst.append([int(input(\"pool size\"))])      #pool\n",
    "        lst[1]=lst[1]+lst[1]\n",
    "        lst.append([int(input(\"stride\"))])           #stride rate\n",
    "        lst[2]=lst[2]+lst[2]\n",
    "        \n",
    "        global_lst.append(lst)\n",
    "        \n",
    "    elif(input_val=='avg_pool'):\n",
    "        \n",
    "        lst.append('avg_pool')\n",
    "        lst.append([int(input(\"pool size\"))])      #pool\n",
    "        lst[1]=lst[1]+lst[1]\n",
    "        lst.append([int(input(\"stride\"))])           #stride rate\n",
    "        lst[2]=lst[2]+lst[2]\n",
    "        \n",
    "        global_lst.append(lst)\n",
    "\n",
    "        \n",
    "    elif(input_val=='activation'):\n",
    "        lst.append('activation')\n",
    "        lst.append([input(\"type of activation\")])\n",
    "        \n",
    "        global_lst.append(lst)\n",
    "        \n",
    "    elif(input_val=='dropout'):\n",
    "        lst[0]='dropout'\n",
    "        lst[1]=int(input(\"value of dropout\"))\n",
    "        \n",
    "        global_lst.append(lst)\n",
    "        \n",
    "        \n",
    "    elif(input_val=='dense'):\n",
    "        lst.append('dense')\n",
    "        lst.append(int(input('number of neurons')))\n",
    "        lst.append(input('activation'))\n",
    "        \n",
    "        global_lst.append(lst)\n",
    "        \n",
    "    elif(input_val=='flatten'):\n",
    "        lst.append('flatten')\n",
    "        \n",
    "        global_lst.append(lst)\n",
    "        \n",
    "    elif(input_val=='norm'):\n",
    "        lst.append('norm')\n",
    "        \n",
    "        global_lst.append(lst)\n",
    "        \n",
    "    input_val=input(\"next layer\")\n",
    "\n",
    "        \n",
    "        \n",
    "        \n",
    "    \n",
    "print(global_lst)\n",
    "        \n",
    "            \n",
    "    \n",
    "    \n",
    "    \n"
   ]
  },
  {
   "cell_type": "code",
   "execution_count": 28,
   "metadata": {},
   "outputs": [],
   "source": [
    "from keras.models import Sequential\n",
    "from keras.layers import *\n",
    "input_shape = [32, 32, 3]"
   ]
  },
  {
   "cell_type": "code",
   "execution_count": 1,
   "metadata": {},
   "outputs": [],
   "source": [
    "global_lst=[['conv',64,[5,5],'same','relu',None],['max_pool',[2,2],[3,3]],['norm'],['conv',64,[5,5],'same','relu',None],['max_pool',[2,2],[3,3]],['norm'],['flatten'],['dense',348,'relu'],['dense',192,'relu'],['dense',10,'softmax']]\n",
    "\n"
   ]
  },
  {
   "cell_type": "code",
   "execution_count": 2,
   "metadata": {},
   "outputs": [
    {
     "name": "stdout",
     "output_type": "stream",
     "text": [
      "['conv', 64, [5, 5], 'same', 'relu', None]\n",
      "['max_pool', [2, 2], [3, 3]]\n",
      "['norm']\n",
      "['conv', 64, [5, 5], 'same', 'relu', None]\n",
      "['max_pool', [2, 2], [3, 3]]\n",
      "['norm']\n",
      "['flatten']\n",
      "['dense', 348, 'relu']\n",
      "['dense', 192, 'relu']\n",
      "['dense', 10, 'softmax']\n"
     ]
    }
   ],
   "source": [
    "for i in global_lst:\n",
    "    print(i)"
   ]
  },
  {
   "cell_type": "code",
   "execution_count": 11,
   "metadata": {},
   "outputs": [],
   "source": [
    "\"Compact layer\"\n",
    "\n",
    "def new_compact(input_shape,global_lst,model):\n",
    "    \n",
    "    for i in global_lst:\n",
    "        \n",
    "        if i[0]=='conv':\n",
    "            model.add(Conv2D(i[1],i[2], input_shape=input_shape, padding=i[3], activation=i[4]))\n",
    "            \n",
    "        elif i[0]=='max_pool':\n",
    "            \n",
    "            model.add(MaxPooling2D(pool_size=i[1], strides=i[2]))\n",
    "            \n",
    "        elif i[0]=='avg_pool':\n",
    "            \n",
    "            model.add()\n",
    "            \n",
    "        elif i[0]=='norm':\n",
    "            \n",
    "            model.add(BatchNormalization(axis=-1))\n",
    "            \n",
    "        elif i[0]=='dropout':\n",
    "            \n",
    "            model.add(Dropout(i[1], noise_shape=None, seed=None))\n",
    "            \n",
    "        elif i[0]=='dense':\n",
    "            \n",
    "            model.add(Dense(i[1],activation=i[2]))\n",
    "        \n",
    "        elif i[0]=='flatten':\n",
    "            \n",
    "            model.add((Flatten()))\n",
    "            \n",
    "        elif i[0]=='activation':\n",
    "            \n",
    "            model.add(Activation(i[1]))\n",
    "            \n",
    "    return model\n",
    "            \n",
    "    \n",
    "    \n",
    "    "
   ]
  },
  {
   "cell_type": "code",
   "execution_count": 12,
   "metadata": {},
   "outputs": [
    {
     "name": "stdout",
     "output_type": "stream",
     "text": [
      "_________________________________________________________________\n",
      "Layer (type)                 Output Shape              Param #   \n",
      "=================================================================\n",
      "conv2d_6 (Conv2D)            (None, 32, 32, 64)        4864      \n",
      "_________________________________________________________________\n",
      "max_pooling2d_5 (MaxPooling2 (None, 11, 11, 64)        0         \n",
      "_________________________________________________________________\n",
      "batch_normalization_5 (Batch (None, 11, 11, 64)        256       \n",
      "_________________________________________________________________\n",
      "conv2d_7 (Conv2D)            (None, 11, 11, 64)        102464    \n",
      "_________________________________________________________________\n",
      "max_pooling2d_6 (MaxPooling2 (None, 4, 4, 64)          0         \n",
      "_________________________________________________________________\n",
      "batch_normalization_6 (Batch (None, 4, 4, 64)          256       \n",
      "_________________________________________________________________\n",
      "flatten_3 (Flatten)          (None, 1024)              0         \n",
      "_________________________________________________________________\n",
      "dense_7 (Dense)              (None, 348)               356700    \n",
      "_________________________________________________________________\n",
      "dense_8 (Dense)              (None, 192)               67008     \n",
      "_________________________________________________________________\n",
      "dense_9 (Dense)              (None, 10)                1930      \n",
      "=================================================================\n",
      "Total params: 533,478\n",
      "Trainable params: 533,222\n",
      "Non-trainable params: 256\n",
      "_________________________________________________________________\n"
     ]
    }
   ],
   "source": [
    "model=Sequential()\n",
    "\n",
    "model = new_compact(input_shape,global_lst,model)\n",
    "\n",
    "model.summary()"
   ]
  }
 ],
 "metadata": {
  "kernelspec": {
   "display_name": "Python 3",
   "language": "python",
   "name": "python3"
  },
  "language_info": {
   "codemirror_mode": {
    "name": "ipython",
    "version": 3
   },
   "file_extension": ".py",
   "mimetype": "text/x-python",
   "name": "python",
   "nbconvert_exporter": "python",
   "pygments_lexer": "ipython3",
   "version": "3.7.1"
  }
 },
 "nbformat": 4,
 "nbformat_minor": 2
}
